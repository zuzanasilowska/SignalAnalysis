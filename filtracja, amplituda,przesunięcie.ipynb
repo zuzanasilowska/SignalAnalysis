{
 "cells": [
  {
   "cell_type": "code",
   "execution_count": 3,
   "metadata": {},
   "outputs": [
    {
     "name": "stdout",
     "output_type": "stream",
     "text": [
      "0.21107926341908756\n",
      "-0.8850668158886104\n"
     ]
    }
   ],
   "source": [
    "import numpy as np\n",
    "import math\n",
    "\n",
    "def filtracja():\n",
    " a=3\n",
    " b=11\n",
    " k=9\n",
    " A=a/np.sqrt(b**2+k**2)\n",
    " return A\n",
    "\n",
    "A= filtracja()\n",
    "print(A)\n",
    "\n",
    "def filtracja2():\n",
    " b=11\n",
    " k=9\n",
    " przesuniecie = -math.atan(b/k)\n",
    " return przesuniecie\n",
    "\n",
    "przesuniecie=filtracja2()\n",
    "print(przesuniecie)"
   ]
  }
 ],
 "metadata": {
  "kernelspec": {
   "display_name": "Python 3",
   "language": "python",
   "name": "python3"
  },
  "language_info": {
   "codemirror_mode": {
    "name": "ipython",
    "version": 3
   },
   "file_extension": ".py",
   "mimetype": "text/x-python",
   "name": "python",
   "nbconvert_exporter": "python",
   "pygments_lexer": "ipython3",
   "version": "3.10.8"
  }
 },
 "nbformat": 4,
 "nbformat_minor": 2
}
